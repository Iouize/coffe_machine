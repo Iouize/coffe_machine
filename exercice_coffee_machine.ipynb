{
 "cells": [
  {
   "cell_type": "markdown",
   "id": "271f13a1",
   "metadata": {},
   "source": [
    "<h1 style=\"text-align: center\">\n",
    "    Concevoir un logiciel de distributeur de cannette. \n",
    "</h1>\n",
    "\n",
    "\n",
    "**Le distributeur**\n",
    "* Le distributeur contient 100 cannettes.\n",
    "* Le distributeur contient 11,50 €.\n",
    "* Une cannette vaut 1,50 €.\n",
    "\n",
    "<hr>\n",
    "\n",
    "**Le consommateur**\n",
    "* Un consommateur peut acheter une cannette. Le stock diminue de 1. La trésorerie est également modifiée.\n",
    "* Le distributeur peut rendre la monnaie.\n",
    "\n",
    "<hr>\n",
    "\n",
    "**Le technicien**\n",
    "* Le technicien doit s’authentifier.\n",
    "* Le technicien peut afficher l’état du stock et de la trésorerie.\n",
    "* Le technicien peut ajouter des cannettes.\n",
    "* Le technicien peut vider la caisse.\n",
    "\n",
    "==> Persister la donnée dans un `csv` par exemple, et remodifier le code déjà effectué pour gérer la mécanique de sérialisation et de deserialisation :\n",
    "\n",
    "<img src=\"images/serialisation.png\" alt=\"schema sur la sérialisation et déserialisation\">"
   ]
  },
  {
   "cell_type": "code",
   "execution_count": 1,
   "id": "3d3870b6",
   "metadata": {},
   "outputs": [],
   "source": [
    "distributeur = {\n",
    "    'stock' : 100,\n",
    "    'treasury' : 11.50,\n",
    "    'technician' : []\n",
    "}"
   ]
  },
  {
   "cell_type": "code",
   "execution_count": 2,
   "id": "7f37eece",
   "metadata": {},
   "outputs": [],
   "source": [
    "def buy_cans(distributeur):\n",
    "    nb_cans = int(input('Combien de cannettes voulez-vous acheter ?'))\n",
    "    distributeur['stock'] -= nb_cans\n",
    "    distributeur['treasury'] += 1.50 * nb_cans  \n",
    "    return distributeur"
   ]
  },
  {
   "cell_type": "code",
   "execution_count": 3,
   "id": "5f2b71c4",
   "metadata": {},
   "outputs": [
    {
     "name": "stdout",
     "output_type": "stream",
     "text": [
      "Combien de cannettes voulez-vous acheter ?5\n"
     ]
    },
    {
     "data": {
      "text/plain": [
       "{'stock': 95, 'treasury': 19.0, 'technician': []}"
      ]
     },
     "execution_count": 3,
     "metadata": {},
     "output_type": "execute_result"
    }
   ],
   "source": [
    "buy_cans(distributeur)"
   ]
  },
  {
   "cell_type": "code",
   "execution_count": null,
   "id": "f3632654",
   "metadata": {},
   "outputs": [],
   "source": []
  },
  {
   "cell_type": "code",
   "execution_count": 4,
   "id": "3e1a1c00",
   "metadata": {},
   "outputs": [],
   "source": [
    "def print_stocks(distributeur):\n",
    "    print(f\"Il y a {distributeur['stock']} canettes\\nIl y a {distributeur['treasury']} € dans la caisse\")"
   ]
  },
  {
   "cell_type": "code",
   "execution_count": 5,
   "id": "d74d8344",
   "metadata": {},
   "outputs": [
    {
     "name": "stdout",
     "output_type": "stream",
     "text": [
      "Il y a 95 canettes\n",
      "Il y a 19.0 € dans la caisse\n"
     ]
    }
   ],
   "source": [
    "print_stocks(distributeur)"
   ]
  },
  {
   "cell_type": "code",
   "execution_count": 6,
   "id": "330f510c",
   "metadata": {},
   "outputs": [],
   "source": [
    "def add_cans(distributeur, nb_cans):\n",
    "    distributeur['stock'] += nb_cans\n",
    "    return distributeur"
   ]
  },
  {
   "cell_type": "code",
   "execution_count": 7,
   "id": "18288718",
   "metadata": {},
   "outputs": [
    {
     "data": {
      "text/plain": [
       "{'stock': 98, 'treasury': 19.0, 'technician': []}"
      ]
     },
     "execution_count": 7,
     "metadata": {},
     "output_type": "execute_result"
    }
   ],
   "source": [
    "add_cans(distributeur, 3)"
   ]
  },
  {
   "cell_type": "code",
   "execution_count": 8,
   "id": "75a08dec",
   "metadata": {},
   "outputs": [],
   "source": [
    "def clear_treasury(distributeur):\n",
    "    distributeur['treasury'] = 0\n",
    "    return distributeur"
   ]
  },
  {
   "cell_type": "code",
   "execution_count": 9,
   "id": "3a4b3bc6",
   "metadata": {},
   "outputs": [
    {
     "data": {
      "text/plain": [
       "{'stock': 98, 'treasury': 0, 'technician': []}"
      ]
     },
     "execution_count": 9,
     "metadata": {},
     "output_type": "execute_result"
    }
   ],
   "source": [
    "clear_treasury(distributeur)"
   ]
  },
  {
   "cell_type": "code",
   "execution_count": 10,
   "id": "5d11bb42",
   "metadata": {},
   "outputs": [],
   "source": [
    "def add_technician(distributeur):\n",
    "    print('Ajoutez un technicien')\n",
    "    name = input('Choisissez un nom ')\n",
    "    password = input('Définissez un mot de passe : ')\n",
    "    distributeur['technician'].append({'name' : name, 'password' : password})\n",
    "    return distributeur"
   ]
  },
  {
   "cell_type": "code",
   "execution_count": 11,
   "id": "60e4d74d",
   "metadata": {},
   "outputs": [
    {
     "name": "stdout",
     "output_type": "stream",
     "text": [
      "Ajoutez un technicien\n",
      "Choisissez un nom louise\n",
      "Définissez un mot de passe : oui\n"
     ]
    },
    {
     "data": {
      "text/plain": [
       "{'stock': 98,\n",
       " 'treasury': 0,\n",
       " 'technician': [{'name': 'louise', 'password': 'oui'}]}"
      ]
     },
     "execution_count": 11,
     "metadata": {},
     "output_type": "execute_result"
    }
   ],
   "source": [
    "add_technician(distributeur)"
   ]
  },
  {
   "cell_type": "code",
   "execution_count": 12,
   "id": "59d7bc8d",
   "metadata": {},
   "outputs": [],
   "source": [
    "def login(distributeur):\n",
    "    name = input('Nom : ')\n",
    "    password = input('Mot de passe : ')\n",
    "    for tech in distributeur['technician']:\n",
    "        if tech['name'] == name and tech['password'] == password:\n",
    "            return f\"Vous etes connecté {name}\"\n",
    "    return f\"Identifiants incorrects\""
   ]
  },
  {
   "cell_type": "code",
   "execution_count": 13,
   "id": "c85a3f58",
   "metadata": {},
   "outputs": [
    {
     "name": "stdout",
     "output_type": "stream",
     "text": [
      "Nom : louise\n",
      "Mot de passe : oui\n"
     ]
    },
    {
     "data": {
      "text/plain": [
       "'Vous etes connecté louise '"
      ]
     },
     "execution_count": 13,
     "metadata": {},
     "output_type": "execute_result"
    }
   ],
   "source": [
    "login(distributeur)"
   ]
  },
  {
   "cell_type": "code",
   "execution_count": 14,
   "id": "04889c7a",
   "metadata": {},
   "outputs": [
    {
     "name": "stdout",
     "output_type": "stream",
     "text": [
      "Nom : nope\n",
      "Mot de passe : oui\n"
     ]
    },
    {
     "data": {
      "text/plain": [
       "'Identifiants incorrects'"
      ]
     },
     "execution_count": 14,
     "metadata": {},
     "output_type": "execute_result"
    }
   ],
   "source": [
    "login(distributeur)"
   ]
  },
  {
   "cell_type": "code",
   "execution_count": null,
   "id": "8736e869",
   "metadata": {},
   "outputs": [],
   "source": []
  }
 ],
 "metadata": {
  "hide_input": false,
  "kernelspec": {
   "display_name": "Python 3.8.12 64-bit ('shims')",
   "language": "python",
   "name": "python3"
  },
  "language_info": {
   "codemirror_mode": {
    "name": "ipython",
    "version": 3
   },
   "file_extension": ".py",
   "mimetype": "text/x-python",
   "name": "python",
   "nbconvert_exporter": "python",
   "pygments_lexer": "ipython3",
   "version": "3.8.12"
  },
  "toc": {
   "base_numbering": 1,
   "nav_menu": {},
   "number_sections": true,
   "sideBar": true,
   "skip_h1_title": false,
   "title_cell": "Table of Contents",
   "title_sidebar": "Contents",
   "toc_cell": false,
   "toc_position": {},
   "toc_section_display": true,
   "toc_window_display": false
  },
  "vscode": {
   "interpreter": {
    "hash": "2c0580683667ab85b25bd0849a2de73bba0f654c8e1ce8bc71c140f27a6a2e7e"
   }
  }
 },
 "nbformat": 4,
 "nbformat_minor": 5
}
